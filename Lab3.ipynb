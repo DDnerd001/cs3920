{
 "cells": [
  {
   "cell_type": "code",
   "execution_count": 1,
   "metadata": {},
   "outputs": [
    {
     "data": {
      "text/plain": [
       "array([[ 1.     ,  0.     ,  0.99539, -0.05889,  0.85243,  0.02306,\n",
       "         0.83398, -0.37708,  1.     ,  0.0376 ,  0.85243, -0.17755,\n",
       "         0.59755, -0.44945,  0.60536, -0.38223,  0.84356, -0.38542,\n",
       "         0.58212, -0.32192,  0.56971, -0.29674,  0.36946, -0.47357,\n",
       "         0.56811, -0.51171,  0.41078, -0.46168,  0.21266, -0.3409 ,\n",
       "         0.42267, -0.54487,  0.18641, -0.453  ,  1.     ],\n",
       "       [ 1.     ,  0.     ,  1.     , -0.18829,  0.93035, -0.36156,\n",
       "        -0.10868, -0.93597,  1.     , -0.04549,  0.50874, -0.67743,\n",
       "         0.34432, -0.69707, -0.51685, -0.97515,  0.05499, -0.62237,\n",
       "         0.33109, -1.     , -0.13151, -0.453  , -0.18056, -0.35734,\n",
       "        -0.20332, -0.26569, -0.20468, -0.18401, -0.1904 , -0.11593,\n",
       "        -0.16626, -0.06288, -0.13738, -0.02447, -1.     ],\n",
       "       [ 1.     ,  0.     ,  1.     , -0.03365,  1.     ,  0.00485,\n",
       "         1.     , -0.12062,  0.88965,  0.01198,  0.73082,  0.05346,\n",
       "         0.85443,  0.00827,  0.54591,  0.00299,  0.83775, -0.13644,\n",
       "         0.75535, -0.0854 ,  0.70887, -0.27502,  0.43385, -0.12062,\n",
       "         0.57528, -0.4022 ,  0.58984, -0.22145,  0.431  , -0.17365,\n",
       "         0.60436, -0.2418 ,  0.56045, -0.38238,  1.     ]])"
      ]
     },
     "execution_count": 1,
     "metadata": {},
     "output_type": "execute_result"
    }
   ],
   "source": [
    "import numpy as np\n",
    "X = np.genfromtxt(\"ionosphere.txt\", delimiter=\",\")\n",
    "X[:3]"
   ]
  },
  {
   "cell_type": "code",
   "execution_count": 2,
   "metadata": {},
   "outputs": [
    {
     "data": {
      "text/plain": [
       "array([[ 1.     ,  0.     ,  0.99539, -0.05889,  0.85243,  0.02306,\n",
       "         0.83398, -0.37708,  1.     ,  0.0376 ,  0.85243, -0.17755,\n",
       "         0.59755, -0.44945,  0.60536, -0.38223,  0.84356, -0.38542,\n",
       "         0.58212, -0.32192,  0.56971, -0.29674,  0.36946, -0.47357,\n",
       "         0.56811, -0.51171,  0.41078, -0.46168,  0.21266, -0.3409 ,\n",
       "         0.42267, -0.54487,  0.18641, -0.453  ],\n",
       "       [ 1.     ,  0.     ,  1.     , -0.18829,  0.93035, -0.36156,\n",
       "        -0.10868, -0.93597,  1.     , -0.04549,  0.50874, -0.67743,\n",
       "         0.34432, -0.69707, -0.51685, -0.97515,  0.05499, -0.62237,\n",
       "         0.33109, -1.     , -0.13151, -0.453  , -0.18056, -0.35734,\n",
       "        -0.20332, -0.26569, -0.20468, -0.18401, -0.1904 , -0.11593,\n",
       "        -0.16626, -0.06288, -0.13738, -0.02447],\n",
       "       [ 1.     ,  0.     ,  1.     , -0.03365,  1.     ,  0.00485,\n",
       "         1.     , -0.12062,  0.88965,  0.01198,  0.73082,  0.05346,\n",
       "         0.85443,  0.00827,  0.54591,  0.00299,  0.83775, -0.13644,\n",
       "         0.75535, -0.0854 ,  0.70887, -0.27502,  0.43385, -0.12062,\n",
       "         0.57528, -0.4022 ,  0.58984, -0.22145,  0.431  , -0.17365,\n",
       "         0.60436, -0.2418 ,  0.56045, -0.38238]])"
      ]
     },
     "execution_count": 2,
     "metadata": {},
     "output_type": "execute_result"
    }
   ],
   "source": [
    "X = np.genfromtxt(\"ionosphere.txt\", delimiter=\",\",\n",
    "    usecols=np.arange(34))\n",
    "X[:3]"
   ]
  },
  {
   "cell_type": "code",
   "execution_count": 3,
   "metadata": {},
   "outputs": [
    {
     "data": {
      "text/plain": [
       "array([ 1, -1,  1])"
      ]
     },
     "execution_count": 3,
     "metadata": {},
     "output_type": "execute_result"
    }
   ],
   "source": [
    "y = np.genfromtxt(\"ionosphere.txt\", delimiter=\",\",\n",
    "usecols=34, dtype='int')\n",
    "y[:3]"
   ]
  },
  {
   "cell_type": "code",
   "execution_count": 4,
   "metadata": {},
   "outputs": [
    {
     "data": {
      "text/plain": [
       "27"
      ]
     },
     "execution_count": 4,
     "metadata": {},
     "output_type": "execute_result"
    }
   ],
   "source": [
    "def cube(x):\n",
    "    \"\"\"this is my first function in this module; it cubes a number\"\"\"\n",
    "    return x**3\n",
    "cube(3)\n"
   ]
  },
  {
   "cell_type": "code",
   "execution_count": 5,
   "metadata": {},
   "outputs": [
    {
     "name": "stdout",
     "output_type": "stream",
     "text": [
      "Help on function cube in module __main__:\n",
      "\n",
      "cube(x)\n",
      "    this is my first function in this module; it cubes a number\n",
      "\n"
     ]
    }
   ],
   "source": [
    "help(cube)"
   ]
  },
  {
   "cell_type": "code",
   "execution_count": 6,
   "metadata": {},
   "outputs": [
    {
     "data": {
      "text/plain": [
       "(9, 27)"
      ]
     },
     "execution_count": 6,
     "metadata": {},
     "output_type": "execute_result"
    }
   ],
   "source": [
    "def powers(x):\n",
    "    \"\"\"this function computes both square and cube\"\"\"\n",
    "    return x**2, x**3\n",
    "powers(3)\n"
   ]
  },
  {
   "cell_type": "code",
   "execution_count": 7,
   "metadata": {},
   "outputs": [
    {
     "data": {
      "text/plain": [
       "27"
      ]
     },
     "execution_count": 7,
     "metadata": {},
     "output_type": "execute_result"
    }
   ],
   "source": [
    "powers(3)[1]"
   ]
  },
  {
   "cell_type": "code",
   "execution_count": 8,
   "metadata": {},
   "outputs": [
    {
     "data": {
      "text/plain": [
       "array([1, 2, 3])"
      ]
     },
     "execution_count": 8,
     "metadata": {},
     "output_type": "execute_result"
    }
   ],
   "source": [
    "a = np.array([1,2,3])\n",
    "a"
   ]
  },
  {
   "cell_type": "code",
   "execution_count": 9,
   "metadata": {},
   "outputs": [
    {
     "data": {
      "text/plain": [
       "array([1, 2, 3])"
      ]
     },
     "execution_count": 9,
     "metadata": {},
     "output_type": "execute_result"
    }
   ],
   "source": [
    "b = a\n",
    "b"
   ]
  },
  {
   "cell_type": "code",
   "execution_count": 10,
   "metadata": {},
   "outputs": [
    {
     "data": {
      "text/plain": [
       "array([  1, 100,   3])"
      ]
     },
     "execution_count": 10,
     "metadata": {},
     "output_type": "execute_result"
    }
   ],
   "source": [
    "a[1] = 100\n",
    "a"
   ]
  },
  {
   "cell_type": "code",
   "execution_count": 11,
   "metadata": {},
   "outputs": [
    {
     "data": {
      "text/plain": [
       "array([  1, 100,   3])"
      ]
     },
     "execution_count": 11,
     "metadata": {},
     "output_type": "execute_result"
    }
   ],
   "source": [
    "b"
   ]
  },
  {
   "cell_type": "code",
   "execution_count": 12,
   "metadata": {},
   "outputs": [],
   "source": [
    "b = np.array(a)"
   ]
  },
  {
   "cell_type": "code",
   "execution_count": 13,
   "metadata": {},
   "outputs": [],
   "source": [
    "b = a.copy()"
   ]
  },
  {
   "cell_type": "code",
   "execution_count": 14,
   "metadata": {},
   "outputs": [
    {
     "data": {
      "text/plain": [
       "array([1, 2, 3, 5, 6])"
      ]
     },
     "execution_count": 14,
     "metadata": {},
     "output_type": "execute_result"
    }
   ],
   "source": [
    "a = np.array([1,2,3])\n",
    "b = np.array([5,6])\n",
    "np.concatenate((a,b))"
   ]
  },
  {
   "cell_type": "code",
   "execution_count": 15,
   "metadata": {},
   "outputs": [],
   "source": [
    "my_array = np.concatenate((np.arange(10**6),np.array([4])))"
   ]
  },
  {
   "cell_type": "markdown",
   "metadata": {},
   "source": [
    "___\n",
    "Exercise 1:"
   ]
  },
  {
   "cell_type": "code",
   "execution_count": 16,
   "metadata": {},
   "outputs": [
    {
     "data": {
      "text/plain": [
       "array([     0,      1,      2, ..., 999998, 999999,      4])"
      ]
     },
     "execution_count": 16,
     "metadata": {},
     "output_type": "execute_result"
    }
   ],
   "source": [
    "my_array"
   ]
  },
  {
   "cell_type": "markdown",
   "metadata": {},
   "source": [
    "my_array is an array containing value from 0 to 999999 with step of 1, and a integer 4 at the end of the array.\n",
    "___"
   ]
  },
  {
   "cell_type": "markdown",
   "metadata": {},
   "source": [
    "Exercise 2:"
   ]
  },
  {
   "cell_type": "code",
   "execution_count": 17,
   "metadata": {},
   "outputs": [
    {
     "name": "stdout",
     "output_type": "stream",
     "text": [
      "Help on _ArrayFunctionDispatcher in module numpy:\n",
      "\n",
      "concatenate(...)\n",
      "    concatenate((a1, a2, ...), axis=0, out=None, dtype=None, casting=\"same_kind\")\n",
      "\n",
      "    Join a sequence of arrays along an existing axis.\n",
      "\n",
      "    Parameters\n",
      "    ----------\n",
      "    a1, a2, ... : sequence of array_like\n",
      "        The arrays must have the same shape, except in the dimension\n",
      "        corresponding to `axis` (the first, by default).\n",
      "    axis : int, optional\n",
      "        The axis along which the arrays will be joined.  If axis is None,\n",
      "        arrays are flattened before use.  Default is 0.\n",
      "    out : ndarray, optional\n",
      "        If provided, the destination to place the result. The shape must be\n",
      "        correct, matching that of what concatenate would have returned if no\n",
      "        out argument were specified.\n",
      "    dtype : str or dtype\n",
      "        If provided, the destination array will have this dtype. Cannot be\n",
      "        provided together with `out`.\n",
      "\n",
      "        .. versionadded:: 1.20.0\n",
      "\n",
      "    casting : {'no', 'equiv', 'safe', 'same_kind', 'unsafe'}, optional\n",
      "        Controls what kind of data casting may occur. Defaults to 'same_kind'.\n",
      "\n",
      "        .. versionadded:: 1.20.0\n",
      "\n",
      "    Returns\n",
      "    -------\n",
      "    res : ndarray\n",
      "        The concatenated array.\n",
      "\n",
      "    See Also\n",
      "    --------\n",
      "    ma.concatenate : Concatenate function that preserves input masks.\n",
      "    array_split : Split an array into multiple sub-arrays of equal or\n",
      "                  near-equal size.\n",
      "    split : Split array into a list of multiple sub-arrays of equal size.\n",
      "    hsplit : Split array into multiple sub-arrays horizontally (column wise).\n",
      "    vsplit : Split array into multiple sub-arrays vertically (row wise).\n",
      "    dsplit : Split array into multiple sub-arrays along the 3rd axis (depth).\n",
      "    stack : Stack a sequence of arrays along a new axis.\n",
      "    block : Assemble arrays from blocks.\n",
      "    hstack : Stack arrays in sequence horizontally (column wise).\n",
      "    vstack : Stack arrays in sequence vertically (row wise).\n",
      "    dstack : Stack arrays in sequence depth wise (along third dimension).\n",
      "    column_stack : Stack 1-D arrays as columns into a 2-D array.\n",
      "\n",
      "    Notes\n",
      "    -----\n",
      "    When one or more of the arrays to be concatenated is a MaskedArray,\n",
      "    this function will return a MaskedArray object instead of an ndarray,\n",
      "    but the input masks are *not* preserved. In cases where a MaskedArray\n",
      "    is expected as input, use the ma.concatenate function from the masked\n",
      "    array module instead.\n",
      "\n",
      "    Examples\n",
      "    --------\n",
      "    >>> a = np.array([[1, 2], [3, 4]])\n",
      "    >>> b = np.array([[5, 6]])\n",
      "    >>> np.concatenate((a, b), axis=0)\n",
      "    array([[1, 2],\n",
      "           [3, 4],\n",
      "           [5, 6]])\n",
      "    >>> np.concatenate((a, b.T), axis=1)\n",
      "    array([[1, 2, 5],\n",
      "           [3, 4, 6]])\n",
      "    >>> np.concatenate((a, b), axis=None)\n",
      "    array([1, 2, 3, 4, 5, 6])\n",
      "\n",
      "    This function will not preserve masking of MaskedArray inputs.\n",
      "\n",
      "    >>> a = np.ma.arange(3)\n",
      "    >>> a[1] = np.ma.masked\n",
      "    >>> b = np.arange(2, 5)\n",
      "    >>> a\n",
      "    masked_array(data=[0, --, 2],\n",
      "                 mask=[False,  True, False],\n",
      "           fill_value=999999)\n",
      "    >>> b\n",
      "    array([2, 3, 4])\n",
      "    >>> np.concatenate([a, b])\n",
      "    masked_array(data=[0, 1, 2, 2, 3, 4],\n",
      "                 mask=False,\n",
      "           fill_value=999999)\n",
      "    >>> np.ma.concatenate([a, b])\n",
      "    masked_array(data=[0, --, 2, 2, 3, 4],\n",
      "                 mask=[False,  True, False, False, False, False],\n",
      "           fill_value=999999)\n",
      "\n"
     ]
    }
   ],
   "source": [
    "help(np.concatenate)"
   ]
  },
  {
   "cell_type": "markdown",
   "metadata": {},
   "source": [
    "The repeat parentheses {concatenate(k=(0,...,69))} is there to define the set k as a tuple of elements, in order to apply the method successfully"
   ]
  },
  {
   "cell_type": "markdown",
   "metadata": {},
   "source": [
    "___"
   ]
  },
  {
   "cell_type": "code",
   "execution_count": 18,
   "metadata": {},
   "outputs": [
    {
     "name": "stdout",
     "output_type": "stream",
     "text": [
      "6\n",
      "0.19640636444091797 seconds\n"
     ]
    }
   ],
   "source": [
    "import time\n",
    "start = time.time()\n",
    "print(sum(4 >= my_array))\n",
    "print(time.time() - start,\"seconds\")"
   ]
  },
  {
   "cell_type": "code",
   "execution_count": 19,
   "metadata": {},
   "outputs": [
    {
     "name": "stdout",
     "output_type": "stream",
     "text": [
      "6\n",
      "0.4516315460205078 seconds\n"
     ]
    }
   ],
   "source": [
    "start = time.time()\n",
    "count = 0\n",
    "for n in range(my_array.size):\n",
    "    if 4 >= my_array[n]:\n",
    "        count =  count + 1\n",
    "print(count)\n",
    "print(time.time() - start,\"seconds\")"
   ]
  },
  {
   "cell_type": "markdown",
   "metadata": {},
   "source": [
    "___\n",
    "Exercise 3:"
   ]
  },
  {
   "cell_type": "code",
   "execution_count": 20,
   "metadata": {},
   "outputs": [
    {
     "name": "stdout",
     "output_type": "stream",
     "text": [
      "[(0, 0), (1, 1), (2, 2), (3, 3), (4, 4), (4, 1000000)]\n"
     ]
    }
   ],
   "source": [
    "array = []\n",
    "for n in range(my_array.size):\n",
    "    if 4 >= my_array[n]:\n",
    "        array.append((my_array[n],n))\n",
    "print(array)"
   ]
  },
  {
   "cell_type": "markdown",
   "metadata": {},
   "source": [
    "Only the first five element generated from np.arrange and the last element from np.array([4]) has a value =< 4"
   ]
  },
  {
   "cell_type": "markdown",
   "metadata": {},
   "source": [
    "___\n",
    "Exercise 4:"
   ]
  },
  {
   "cell_type": "code",
   "execution_count": 21,
   "metadata": {},
   "outputs": [
    {
     "name": "stdout",
     "output_type": "stream",
     "text": [
      "minimum= (0, 0)\n",
      "maximum= (999999, 999999)\n",
      "1.0645158290863037 seconds\n"
     ]
    }
   ],
   "source": [
    "import math\n",
    "start = time.time()\n",
    "current_minimum = [math.inf,0]\n",
    "current_maximum = [-math.inf,0]\n",
    "for n in range(my_array.size):\n",
    "    if current_minimum[0] > my_array[n]:\n",
    "        current_minimum[0] = my_array[n]\n",
    "        current_minimum[1] = n\n",
    "    if current_maximum[0] < my_array[n]:\n",
    "        current_maximum[0] = my_array[n]\n",
    "        current_maximum[1] = n\n",
    "print(\"minimum= (%d, %d)\" % (current_minimum[0],current_minimum[1]))\n",
    "print(\"maximum= (%d, %d)\" % (current_maximum[0],current_maximum[1]))\n",
    "print(time.time() - start,\"seconds\")"
   ]
  },
  {
   "cell_type": "markdown",
   "metadata": {},
   "source": [
    "___\n",
    "Exercise 5:"
   ]
  },
  {
   "cell_type": "code",
   "execution_count": 22,
   "metadata": {},
   "outputs": [
    {
     "data": {
      "text/plain": [
       "135"
      ]
     },
     "execution_count": 22,
     "metadata": {},
     "output_type": "execute_result"
    }
   ],
   "source": [
    "def squared_norm(array,length):\n",
    "    value = 0\n",
    "    for n in range(length):\n",
    "        value += array[n] * array[n]\n",
    "    return value\n",
    "squared_norm([3,4,5,6,7],5)"
   ]
  },
  {
   "cell_type": "markdown",
   "metadata": {},
   "source": [
    "___\n",
    "Exercise 6:"
   ]
  },
  {
   "cell_type": "code",
   "execution_count": 23,
   "metadata": {},
   "outputs": [
    {
     "data": {
      "text/plain": [
       "135"
      ]
     },
     "execution_count": 23,
     "metadata": {},
     "output_type": "execute_result"
    }
   ],
   "source": [
    "def norm_squared(array):\n",
    "    value = 0\n",
    "    for n in range(len(array)):\n",
    "        value += array[n] * array[n]\n",
    "    return value\n",
    "norm_squared([3,4,5,6,7])"
   ]
  },
  {
   "cell_type": "markdown",
   "metadata": {},
   "source": [
    "___\n",
    "Exercise 7:"
   ]
  },
  {
   "cell_type": "code",
   "execution_count": 24,
   "metadata": {},
   "outputs": [
    {
     "name": "stdout",
     "output_type": "stream",
     "text": [
      "11.618950^2 = 135.000000\n"
     ]
    }
   ],
   "source": [
    "def norm(array):\n",
    "    return math.sqrt(norm_squared(array))\n",
    "k=norm([3,4,5,6,7])\n",
    "p=k**2\n",
    "print(\"%f^2 = %f\" % (k,p))"
   ]
  },
  {
   "cell_type": "markdown",
   "metadata": {},
   "source": [
    "___"
   ]
  }
 ],
 "metadata": {
  "kernelspec": {
   "display_name": "Python 3",
   "language": "python",
   "name": "python3"
  },
  "language_info": {
   "codemirror_mode": {
    "name": "ipython",
    "version": 3
   },
   "file_extension": ".py",
   "mimetype": "text/x-python",
   "name": "python",
   "nbconvert_exporter": "python",
   "pygments_lexer": "ipython3",
   "version": "3.12.4"
  }
 },
 "nbformat": 4,
 "nbformat_minor": 2
}
