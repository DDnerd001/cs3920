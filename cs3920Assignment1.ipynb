{
 "cells": [
  {
   "cell_type": "markdown",
   "metadata": {},
   "source": [
    "CS3920 Assignment 1"
   ]
  },
  {
   "cell_type": "code",
   "execution_count": 10,
   "metadata": {},
   "outputs": [],
   "source": [
    "import numpy as np\n",
    "import math as mt\n",
    "from collections import Counter\n",
    "\n",
    "def inner_product(x:list, y:list)->float:\n",
    "    \"\"\"Calculate inner product of two vector\n",
    "\n",
    "    Args:\n",
    "        x1 (list): 1d vector array\n",
    "        y1 (list): 1d vector array\n",
    "\n",
    "    Returns:\n",
    "        float: inner product of two vector\n",
    "    \"\"\"\n",
    "    return np.dot(x, y)\n",
    "\n",
    "\n",
    "def euclidean_distance(x:list, y:list) -> float:\n",
    "    \"\"\"distance between two point\n",
    "\n",
    "    Args:\n",
    "        x (list): vector array\n",
    "        y (list): vector array\n",
    "\n",
    "    Returns:\n",
    "        float: distance of difference of two vector\n",
    "    \"\"\"\n",
    "    return mt.sqrt(inner_product(x,x)-2*inner_product(x,y)+inner_product(y,y))\n",
    "\n",
    "\n",
    "def most_frequent(list:list):\n",
    "    return Counter(list).most_common(1)[0][0]\n",
    "\n",
    "\n",
    "\n",
    "\n",
    "\n"
   ]
  },
  {
   "cell_type": "code",
   "execution_count": 27,
   "metadata": {},
   "outputs": [
    {
     "data": {
      "text/plain": [
       "(5.0, '0.0009722709655761719')"
      ]
     },
     "execution_count": 27,
     "metadata": {},
     "output_type": "execute_result"
    }
   ],
   "source": [
    "import time\n",
    "def time_func(predicate, x):\n",
    "    \"\"\"test function for runtime of another function\n",
    "\n",
    "    Args:\n",
    "        predicate (function): function for test\n",
    "        x (set): input arguments\n",
    "\n",
    "    Returns:\n",
    "        set: value and runtime\n",
    "    \"\"\"\n",
    "    start = time.time()\n",
    "    x =predicate(*x)\n",
    "    y =str(time.time() - start)\n",
    "    return (x,y)\n",
    "\n",
    "\n",
    "a=[0,2,3,4,5,6,7]\n",
    "\n",
    "b=[0,4,1,7,3,6,9]\n",
    "time_func(euclidean_distance,(a, b))"
   ]
  },
  {
   "cell_type": "code",
   "execution_count": 28,
   "metadata": {},
   "outputs": [],
   "source": [
    "class KNN:\n",
    "    def __init__(self,k=3):\n",
    "        self.k = k\n",
    "\n",
    "    def fit(self, X, y):\n",
    "        self.X_train=X\n",
    "        self.y_train=y\n",
    "\n",
    "    def predict(self, X):\n",
    "        predicted_sample = [self._predict(x) for x in X]\n",
    "        return np.array(predicted_sample)\n",
    "\n",
    "    def _predict(self, x):\n",
    "        # compute distance\n",
    "        distances = [euclidean_distance(x, x_train) for x_train in self.X_train]\n",
    "        # get k nearest sample, labels\n",
    "        k_indices = np.argsort(distances)[:self.k]\n",
    "        k_nearest_labels = [self.y_train[i]for i in k_indices]\n",
    "        # majority vote, most common class label\n",
    "        return most_frequent(k_nearest_labels)\n"
   ]
  }
 ],
 "metadata": {
  "kernelspec": {
   "display_name": "base",
   "language": "python",
   "name": "python3"
  },
  "language_info": {
   "codemirror_mode": {
    "name": "ipython",
    "version": 3
   },
   "file_extension": ".py",
   "mimetype": "text/x-python",
   "name": "python",
   "nbconvert_exporter": "python",
   "pygments_lexer": "ipython3",
   "version": "3.12.4"
  }
 },
 "nbformat": 4,
 "nbformat_minor": 2
}
