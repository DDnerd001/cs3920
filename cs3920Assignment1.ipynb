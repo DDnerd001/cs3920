{
 "cells": [
  {
   "cell_type": "markdown",
   "metadata": {},
   "source": [
    "CS3920 Assignment 1"
   ]
  },
  {
   "cell_type": "markdown",
   "metadata": {},
   "source": [
    "___\n",
    "functions"
   ]
  },
  {
   "cell_type": "code",
   "execution_count": 1,
   "metadata": {},
   "outputs": [],
   "source": [
    "import numpy as np\n",
    "import math as mt\n",
    "from collections import Counter\n",
    "from heapq import nsmallest\n",
    "\n",
    "\n",
    "def inner_product(x:list, y:list)->float:\n",
    "    \"\"\"Calculate inner product of two vector\n",
    "\n",
    "    Args:\n",
    "        x1 (list): 1d vector array\n",
    "        y1 (list): 1d vector array\n",
    "\n",
    "    Returns:\n",
    "        float: inner product of two vector\n",
    "    \"\"\"\n",
    "    return np.dot(x, y)\n",
    "\n",
    "\n",
    "def euclidean_distance(x:list, y:list) -> float:\n",
    "    \"\"\"distance between two point\n",
    "\n",
    "    Args:\n",
    "        x (list): vector array\n",
    "        y (list): vector array\n",
    "\n",
    "    Returns:\n",
    "        float: distance of difference of two vector\n",
    "    \"\"\"\n",
    "    return (np.dot(x,x)-2*np.dot(x,y)+np.dot(y,y))\n",
    "\n",
    "def ec(x, y) -> float:\n",
    "    \"\"\"distance between two point\n",
    "\n",
    "    Args:\n",
    "        x (list): vector array\n",
    "        y (list): vector array\n",
    "\n",
    "    Returns:\n",
    "        float: distance of difference of two vector\n",
    "    \"\"\"\n",
    "    return np.sum((x - y) ** 2)\n",
    "\n",
    "\n",
    "def most_frequent(list:list):\n",
    "    \"\"\"return the most frequent element from the list\n",
    "\n",
    "    Args:\n",
    "        list (list): list\n",
    "\n",
    "    Returns:\n",
    "        _type_: _description_\n",
    "    \"\"\"\n",
    "    return Counter(list).most_common(1)[0][0]\n",
    "\n",
    "\n",
    "def indice_sort2(b):\n",
    "    return np.argsort(b)\n",
    "\n",
    "def indice_sort(pq, k):\n",
    "    \"\"\"return index of elements when the list is sorted\n",
    "\n",
    "    Args:\n",
    "        pq (list): list to be sorted\n",
    "        k (int): numbers of elements wanted to be sorted\n",
    "\n",
    "    Returns:\n",
    "        list: indice of sorted elements\n",
    "    \"\"\"\n",
    "    c=[[pq[i],i] for i in range(len(pq))]\n",
    "    return [i[1] for i in nsmallest(k, c, key=lambda x: x[0])]\n",
    "\n",
    "\n",
    "\n",
    "\n",
    "\n"
   ]
  },
  {
   "cell_type": "markdown",
   "metadata": {},
   "source": [
    "___\n",
    "test function"
   ]
  },
  {
   "cell_type": "code",
   "execution_count": 2,
   "metadata": {},
   "outputs": [
    {
     "name": "stdout",
     "output_type": "stream",
     "text": [
      "Result of run test:  39455\n",
      "Run time of test:  0.0\n",
      "(39455, 0.0)\n",
      "Result of run test:  39455\n",
      "Run time of test:  0.0\n",
      "(39455, 0.0)\n",
      "[11, 13, 12]\n",
      "[11 13 12  1  8  0 14  2 17 15  3  6  5  7 18 10 16  4  9]\n",
      "Result of run test:  [11, 13, 12]\n",
      "Run time of test:  0.0\n",
      "([11, 13, 12], 0.0)\n",
      "Result of run test:  [11 13 12  1  8  0 14  2 17 15  3  6  5  7 18 10 16  4  9]\n",
      "Run time of test:  0.0\n",
      "(array([11, 13, 12,  1,  8,  0, 14,  2, 17, 15,  3,  6,  5,  7, 18, 10, 16,\n",
      "        4,  9], dtype=int64), 0.0)\n"
     ]
    }
   ],
   "source": [
    "import time\n",
    "def time_func(predicate, x):\n",
    "    \"\"\"test function for runtime of another function\n",
    "\n",
    "    Args:\n",
    "        predicate (function): function for test\n",
    "        x (set): input arguments\n",
    "\n",
    "    Returns:\n",
    "        set: value and runtime\n",
    "    \"\"\"\n",
    "    start = time.time()\n",
    "    x =predicate(*x)\n",
    "    y =(time.time() - start)\n",
    "    print(\"Result of run test: \", x)\n",
    "    print(\"Run time of test: \",y)\n",
    "    return (x,y)\n",
    "\n",
    "\n",
    "a=[70, 78, 26, 30, 2, 89, 56, 92, 82, 60, 21, 66, 37, 38, 36, 40, 83, 88, 64]\n",
    "aa=np.array(a)\n",
    "b=[9, 6, 22, 39, 94, 70, 52, 72, 7, 98, 82, 0, 5, 3, 20, 38, 90, 30, 76]\n",
    "bb=np.array(b)\n",
    "cc=np.array([3,4,6])\n",
    "print(time_func(euclidean_distance,(a, b)))\n",
    "print(time_func(ec,(aa, bb)))\n",
    "print(indice_sort(b,3))\n",
    "print(indice_sort2(b))\n",
    "print(time_func(indice_sort,[b,3]))\n",
    "print(time_func(indice_sort2,[b]))\n"
   ]
  },
  {
   "cell_type": "markdown",
   "metadata": {},
   "source": [
    "___\n",
    "K Nearest Neighbours class"
   ]
  },
  {
   "cell_type": "code",
   "execution_count": 3,
   "metadata": {},
   "outputs": [],
   "source": [
    "class KNN:\n",
    "    def __init__(self,k=3):\n",
    "        self.k = k\n",
    "\n",
    "    def fit(self, X, y):\n",
    "        self.X_train=X\n",
    "        self.y_train=y\n",
    "\n",
    "    def predict(self, X):\n",
    "        predicted_sample = [self._predict(x) for x in X]\n",
    "        return np.array(predicted_sample)\n",
    "\n",
    "\n",
    "\n",
    "    def _predict(self, x):\n",
    "        # compute distance of input and train set\n",
    "        distances = [euclidean_distance(x, x_train) for x_train in self.X_train]\n",
    "        # get indice of k nearest sample\n",
    "        k_indices = indice_sort(distances,self.k)\n",
    "        #map index to label\n",
    "        k_nearest_labels = [self.y_train[i]for i in k_indices]\n",
    "        # majority vote, most common class label\n",
    "        return most_frequent(k_nearest_labels)\n",
    "\n",
    "    def score(self, X_test, y_test):\n",
    "        y_pred = self.predict(X_test)\n",
    "        return np.mean(y_pred == y_test)\n"
   ]
  },
  {
   "cell_type": "markdown",
   "metadata": {},
   "source": [
    "___\n",
    "run case"
   ]
  },
  {
   "cell_type": "code",
   "execution_count": 4,
   "metadata": {},
   "outputs": [
    {
     "name": "stdout",
     "output_type": "stream",
     "text": [
      "Result of run test:  [1 1 2 0 1 0 0 0 1 2 1 0 2 1 0 1 2 0 2 1 1 1 1 1 2 0 2 1 2 0]\n",
      "Run time of test:  0.015620231628417969\n",
      "[0]\n"
     ]
    },
    {
     "data": {
      "text/plain": [
       "1.0"
      ]
     },
     "execution_count": 4,
     "metadata": {},
     "output_type": "execute_result"
    }
   ],
   "source": [
    "from matplotlib.colors import ListedColormap\n",
    "import matplotlib.pyplot as plt\n",
    "from sklearn import datasets\n",
    "from sklearn.model_selection import train_test_split\n",
    "\n",
    "cmap = ListedColormap([\"#FF0000\", \"#00FF00\", \"#0000FF\"])\n",
    "\n",
    "def accuracy(y_true, y_pred):\n",
    "    accuracy = np.sum(y_true == y_pred) / len(y_true)\n",
    "    return accuracy\n",
    "\n",
    "iris = datasets.load_iris()\n",
    "X, y = iris.data, iris.target\n",
    "\n",
    "X_train, X_test, y_train, y_test = train_test_split(\n",
    "    X, y, test_size=0.2, random_state=1234\n",
    ")\n",
    "\n",
    "k = 3\n",
    "clf = KNN(k=k)\n",
    "clf.fit(X_train, y_train)\n",
    "predictions = time_func(clf.predict,[X_test])\n",
    "\n",
    "X_new = np.array([[5, 2.9, 1, 0.2]])\n",
    "prediction = clf.predict(X_new)\n",
    "print(prediction)\n",
    "\n",
    "r = KNN(k=1)\n",
    "r.fit(X_train, y_train)\n",
    "y_pred = r.predict(X_test)\n",
    "np.mean(y_pred == y_test)"
   ]
  },
  {
   "cell_type": "code",
   "execution_count": 5,
   "metadata": {},
   "outputs": [
    {
     "data": {
      "text/plain": [
       "[<matplotlib.lines.Line2D at 0x141c9ad60c0>]"
      ]
     },
     "execution_count": 5,
     "metadata": {},
     "output_type": "execute_result"
    },
    {
     "data": {
      "image/png": "[encoded data removed]",
      "text/plain": [
       "<Figure size 640x480 with 1 Axes>"
      ]
     },
     "metadata": {},
     "output_type": "display_data"
    }
   ],
   "source": [
    "X_train, X_test, y_train, y_test = train_test_split(iris['data'],\n",
    "iris['target'], random_state=0)\n",
    "result =np.empty(19)\n",
    "for i in range(1,19):\n",
    "    knn = KNN(k=i)\n",
    "    knn.fit(X_train, y_train)\n",
    "    result[i]=(knn.score(X_test, y_test))\n",
    "\n",
    "plt.plot(np.arange(19), result,marker=\"x\")\n"
   ]
  }
 ],
 "metadata": {
  "kernelspec": {
   "display_name": "base",
   "language": "python",
   "name": "python3"
  },
  "language_info": {
   "codemirror_mode": {
    "name": "ipython",
    "version": 3
   },
   "file_extension": ".py",
   "mimetype": "text/x-python",
   "name": "python",
   "nbconvert_exporter": "python",
   "pygments_lexer": "ipython3",
   "version": "3.12.4"
  }
 },
 "nbformat": 4,
 "nbformat_minor": 2
}
